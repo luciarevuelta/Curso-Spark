{
 "cells": [
  {
   "cell_type": "code",
   "execution_count": 1,
   "id": "0dd74355",
   "metadata": {},
   "outputs": [],
   "source": [
    "import findspark\n",
    "findspark.init()\n",
    "\n",
    "import pandas as pd\n",
    "import pyspark"
   ]
  },
  {
   "cell_type": "code",
   "execution_count": 2,
   "id": "8e11d158",
   "metadata": {},
   "outputs": [],
   "source": [
    "from pyspark.sql import functions as f\n",
    "import pandas as pd\n",
    "import seaborn as sns\n",
    "import matplotlib.pyplot as plt\n",
    "\n",
    "%matplotlib inline"
   ]
  },
  {
   "cell_type": "code",
   "execution_count": 3,
   "id": "71384453",
   "metadata": {},
   "outputs": [],
   "source": [
    "from pyspark.sql import SparkSession\n",
    "\n",
    "spark = SparkSession.builder\\\n",
    "        .master(\"local[*]\")\\\n",
    "        .appName('PySpark_Tutorial')\\\n",
    "        .getOrCreate() #si existe una sesion existente la usa y sino la crea"
   ]
  },
  {
   "cell_type": "code",
   "execution_count": 4,
   "id": "cdd09a36",
   "metadata": {},
   "outputs": [
    {
     "name": "stdout",
     "output_type": "stream",
     "text": [
      "root\n",
      " |-- _c0: string (nullable = true)\n",
      " |-- symbol: string (nullable = true)\n",
      " |-- date: string (nullable = true)\n",
      " |-- open: string (nullable = true)\n",
      " |-- high: string (nullable = true)\n",
      " |-- low: string (nullable = true)\n",
      " |-- close: string (nullable = true)\n",
      " |-- volume: string (nullable = true)\n",
      " |-- adjusted: string (nullable = true)\n",
      " |-- market.cap: string (nullable = true)\n",
      " |-- sector: string (nullable = true)\n",
      " |-- industry: string (nullable = true)\n",
      " |-- exchange: string (nullable = true)\n",
      "\n"
     ]
    }
   ],
   "source": [
    "path = \"C:/Users/USER/Desktop/Curso Spark Udemy/Ejercicios prácticos/data/stocks_price_final.csv\"\n",
    "b_data = spark.read.csv(\n",
    "    path,\n",
    "    sep = ',',\n",
    "    header = True, #primera fila con encabezado\n",
    "    )\n",
    "\n",
    "b_data.printSchema() #esquema de datos obtenidos"
   ]
  },
  {
   "cell_type": "code",
   "execution_count": 5,
   "id": "c32a611f",
   "metadata": {},
   "outputs": [],
   "source": [
    "from pyspark.sql.types import *\n",
    "#algunas veces el tipo de datos inferido por pyspark es incorrecto y debemos modificarlo manualmente\n",
    "data_schema = [\n",
    "               StructField('_c0', IntegerType(), True), # nombre_variable, tipo_dato, nullable- Si= True, No=False\n",
    "               StructField('symbol', StringType(), True),  #norml. será False si los datos son de tipo #Id \n",
    "               StructField('data', DateType(), True),\n",
    "               StructField('open', DoubleType(), True),\n",
    "               StructField('high', DoubleType(), True),\n",
    "               StructField('low', DoubleType(), True),\n",
    "               StructField('close', DoubleType(), True),\n",
    "               StructField('volume', IntegerType(), True),\n",
    "               StructField('adjusted', DoubleType(), True),\n",
    "               StructField('market.cap', StringType(), True),\n",
    "               StructField('sector', StringType(), True),\n",
    "               StructField('industry', StringType(), True),\n",
    "               StructField('exchange', StringType(), True),\n",
    "            ]\n",
    "\n",
    "final_struc = StructType(fields=data_schema)"
   ]
  },
  {
   "cell_type": "code",
   "execution_count": 6,
   "id": "3c83ea0b",
   "metadata": {},
   "outputs": [],
   "source": [
    "data = spark.read.csv(\n",
    "    \"C:/Users/USER/Desktop/Curso Spark Udemy/Ejercicios prácticos/data/stocks_price_final.csv\",\n",
    "    sep = ',',\n",
    "    header = True,\n",
    "    schema = final_struc #le pasamos el esquema que acabamos de crear\n",
    "    )"
   ]
  },
  {
   "cell_type": "code",
   "execution_count": 7,
   "id": "5b725751",
   "metadata": {},
   "outputs": [
    {
     "name": "stdout",
     "output_type": "stream",
     "text": [
      "+---+------+----------+---------+---------+---------+---------+-------+---------+----------+-------------+--------------------+--------+\n",
      "|_c0|symbol|      data|     open|     high|      low|    close| volume| adjusted|market.cap|       sector|            industry|exchange|\n",
      "+---+------+----------+---------+---------+---------+---------+-------+---------+----------+-------------+--------------------+--------+\n",
      "|  1|   TXG|2019-09-12|     54.0|     58.0|     51.0|    52.75|7326300|    52.75|    $9.31B|Capital Goods|Biotechnology: La...|  NASDAQ|\n",
      "|  2|   TXG|2019-09-13|    52.75|   54.355|49.150002|    52.27|1025200|    52.27|    $9.31B|Capital Goods|Biotechnology: La...|  NASDAQ|\n",
      "|  3|   TXG|2019-09-16|52.450001|     56.0|52.009998|55.200001| 269900|55.200001|    $9.31B|Capital Goods|Biotechnology: La...|  NASDAQ|\n",
      "|  4|   TXG|2019-09-17|56.209999|60.900002|   55.423|56.779999| 602800|56.779999|    $9.31B|Capital Goods|Biotechnology: La...|  NASDAQ|\n",
      "+---+------+----------+---------+---------+---------+---------+-------+---------+----------+-------------+--------------------+--------+\n",
      "only showing top 4 rows\n",
      "\n"
     ]
    }
   ],
   "source": [
    "data.show(4)"
   ]
  },
  {
   "cell_type": "markdown",
   "id": "408b1b23",
   "metadata": {},
   "source": [
    "## Ejercicio 1: \n",
    "Eliminar o renombrar la variable market.cap"
   ]
  },
  {
   "cell_type": "code",
   "execution_count": 8,
   "id": "889323a8",
   "metadata": {},
   "outputs": [],
   "source": [
    "# Para eliminar una variable\n",
    "data = data.drop('market.cap')\n",
    "#Para renombrar una \n",
    "# data.withColumnRenamed('market.cap','market_cap')"
   ]
  },
  {
   "cell_type": "markdown",
   "id": "1fb7ec67",
   "metadata": {},
   "source": [
    "## Ejercicio 2: \n",
    "Filtrar los datos donde el valor de 'open' es nulo y eliminar esas filas."
   ]
  },
  {
   "cell_type": "code",
   "execution_count": 9,
   "id": "8f2cb028",
   "metadata": {},
   "outputs": [
    {
     "name": "stdout",
     "output_type": "stream",
     "text": [
      "+----+------+----------+----+----+----+-----+------+--------+-------------+--------------------+--------+\n",
      "| _c0|symbol|      data|open|high| low|close|volume|adjusted|       sector|            industry|exchange|\n",
      "+----+------+----------+----+----+----+-----+------+--------+-------------+--------------------+--------+\n",
      "|4378|  KRKR|2020-05-11|null|null|null| null|  null|    null|Miscellaneous|   Business Services|  NASDAQ|\n",
      "|5747|  NMTR|2020-01-23|null|null|null| null|  null|    null|  Health Care|Major Pharmaceuti...|  NASDAQ|\n",
      "|5748|  NMTR|2020-01-24|null|null|null| null|  null|    null|  Health Care|Major Pharmaceuti...|  NASDAQ|\n",
      "|5749|  NMTR|2020-01-27|null|null|null| null|  null|    null|  Health Care|Major Pharmaceuti...|  NASDAQ|\n",
      "|5750|  NMTR|2020-01-28|null|null|null| null|  null|    null|  Health Care|Major Pharmaceuti...|  NASDAQ|\n",
      "|5751|  NMTR|2020-01-29|null|null|null| null|  null|    null|  Health Care|Major Pharmaceuti...|  NASDAQ|\n",
      "|5752|  NMTR|2020-01-30|null|null|null| null|  null|    null|  Health Care|Major Pharmaceuti...|  NASDAQ|\n",
      "|5753|  NMTR|2020-01-31|null|null|null| null|  null|    null|  Health Care|Major Pharmaceuti...|  NASDAQ|\n",
      "|5754|  NMTR|2020-02-03|null|null|null| null|  null|    null|  Health Care|Major Pharmaceuti...|  NASDAQ|\n",
      "|5755|  NMTR|2020-02-04|null|null|null| null|  null|    null|  Health Care|Major Pharmaceuti...|  NASDAQ|\n",
      "|5756|  NMTR|2020-02-05|null|null|null| null|  null|    null|  Health Care|Major Pharmaceuti...|  NASDAQ|\n",
      "|5757|  NMTR|2020-02-06|null|null|null| null|  null|    null|  Health Care|Major Pharmaceuti...|  NASDAQ|\n",
      "|5758|  NMTR|2020-02-07|null|null|null| null|  null|    null|  Health Care|Major Pharmaceuti...|  NASDAQ|\n",
      "|5759|  NMTR|2020-02-10|null|null|null| null|  null|    null|  Health Care|Major Pharmaceuti...|  NASDAQ|\n",
      "|5760|  NMTR|2020-02-11|null|null|null| null|  null|    null|  Health Care|Major Pharmaceuti...|  NASDAQ|\n",
      "|5761|  NMTR|2020-02-12|null|null|null| null|  null|    null|  Health Care|Major Pharmaceuti...|  NASDAQ|\n",
      "|5762|  NMTR|2020-02-13|null|null|null| null|  null|    null|  Health Care|Major Pharmaceuti...|  NASDAQ|\n",
      "|5763|  NMTR|2020-02-14|null|null|null| null|  null|    null|  Health Care|Major Pharmaceuti...|  NASDAQ|\n",
      "|5764|  NMTR|2020-02-18|null|null|null| null|  null|    null|  Health Care|Major Pharmaceuti...|  NASDAQ|\n",
      "|5765|  NMTR|2020-02-19|null|null|null| null|  null|    null|  Health Care|Major Pharmaceuti...|  NASDAQ|\n",
      "+----+------+----------+----+----+----+-----+------+--------+-------------+--------------------+--------+\n",
      "only showing top 20 rows\n",
      "\n"
     ]
    }
   ],
   "source": [
    "data.filter(\"open is null\").show() #filtro los datos donde el valor \"open\" es nulo.\n"
   ]
  },
  {
   "cell_type": "code",
   "execution_count": 10,
   "id": "7169e902",
   "metadata": {},
   "outputs": [
    {
     "data": {
      "text/plain": [
       "DataFrame[_c0: int, symbol: string, data: date, open: double, high: double, low: double, close: double, volume: int, adjusted: double, sector: string, industry: string, exchange: string]"
      ]
     },
     "execution_count": 10,
     "metadata": {},
     "output_type": "execute_result"
    }
   ],
   "source": [
    "data.na.drop() #elimino los valores nulos"
   ]
  },
  {
   "cell_type": "markdown",
   "id": "ac06d746",
   "metadata": {},
   "source": [
    "## Ejercicio 3: \n",
    "Calcular el mínimo y máximo de data, open, close y adjusted."
   ]
  },
  {
   "cell_type": "code",
   "execution_count": 12,
   "id": "8ced9029",
   "metadata": {},
   "outputs": [
    {
     "name": "stdout",
     "output_type": "stream",
     "text": [
      "+-------------------------------------------------------------+----------+----------+---------------+---------------+------------------+---------------+---------------+------------------+------------------------+------------------------+------------------------+\n",
      "|industry                                                     |From      |To        |Minimum Opening|Maximum Opening|Average Opening   |Minimum Closing|Maximum Closing|Average Closing   |Minimum Adjusted Closing|Maximum Adjusted Closing|Average Adjusted Closing|\n",
      "+-------------------------------------------------------------+----------+----------+---------------+---------------+------------------+---------------+---------------+------------------+------------------------+------------------------+------------------------+\n",
      "|Finance/Investors Services                                   |2019-01-02|2020-07-22|0.782          |12.77          |5.13440178571429  |0.782          |12.69          |5.136630739795919 |0.782                   |11.647271               |4.991354066964286       |\n",
      "|Miscellaneous                                                |2019-01-02|2020-07-22|1.32           |54.549999      |16.385882669387755|1.4            |55.200001      |16.35987909030612 |1.4                     |55.200001               |16.148959322959186      |\n",
      "|Investment Bankers/Brokers/Service                           |2019-01-02|2020-07-22|0.9            |584.75         |58.95058094575019 |0.85           |587.719971     |58.98308596082632 |0.85                    |587.719971              |58.15783725890326       |\n",
      "|Food Distributors                                            |2019-01-02|2020-07-22|0.43           |410.0          |43.27450856935455 |0.43           |413.679993     |43.273178105748485|0.43                    |413.679993              |42.91047608357858       |\n",
      "|Miscellaneous manufacturing industries                       |2019-01-02|2020-07-22|0.505          |59.099998      |15.660586409948984|0.5            |58.869999      |15.650934860969391|0.5                     |58.074196               |15.369818847193876      |\n",
      "|Broadcasting                                                 |2019-01-02|2020-07-22|0.67           |290.670013     |24.916787464825198|0.63           |291.190002     |24.917388455395155|0.63                    |291.190002              |24.69910202962527       |\n",
      "|Agricultural Chemicals                                       |2019-01-02|2020-07-22|0.63           |149.899994     |22.04641392899661 |0.6            |150.699997     |22.042051076318018|0.6                     |150.119995              |21.635093418154764      |\n",
      "|Biotechnology: Biological Products (No Diagnostic Substances)|2019-01-02|2020-07-22|0.14           |345.970001     |24.808083192324382|0.15           |342.549988     |24.80358714993545 |0.15                    |342.549988              |24.745079978273193      |\n",
      "|Other Specialty Stores                                       |2019-01-02|2020-07-22|0.32           |1266.560059    |84.80718810562882 |0.27           |1250.0         |84.8027655092983  |0.27                    |1250.0                  |84.55525036482346       |\n",
      "|Biotechnology: Electromedical & Electrotherapeutic Apparatus |2019-01-02|2020-07-22|0.265          |257.850006     |33.36891734535047 |0.25           |250.389999     |33.33611913546894 |0.25                    |250.389999              |33.21022605613577       |\n",
      "|Other Consumer Services                                      |2019-01-02|2020-07-22|0.359          |1117.800049    |43.67010744224601 |0.35           |1144.530029    |43.658688711464656|0.35                    |1144.530029             |43.43498980879015       |\n",
      "|Electric Utilities: Central                                  |2019-01-02|2020-07-22|0.35           |280.0          |41.35569183903101 |0.34           |282.220001     |41.371055593573296|0.34                    |280.67395               |40.39245735242019       |\n",
      "|Specialty Foods                                              |2019-01-02|2020-07-22|3.95           |196.110001     |65.22351357692308 |3.77           |195.660004     |65.22317585370249 |3.77                    |193.315216              |64.18661875197692       |\n",
      "|Plastic Products                                             |2019-01-02|2020-07-22|0.96           |125.5          |31.695005961290278|0.85           |125.919998     |31.7077308935484  |0.85                    |124.388878              |31.407765850921646      |\n",
      "|Water Supply                                                 |2019-01-02|2020-07-22|6.24           |140.929993     |40.580483082035386|5.85           |143.789993     |40.58487374462941 |5.657546                |143.789993              |40.173327914876424      |\n",
      "|Banks                                                        |2019-01-02|2020-07-22|5.96           |64.410004      |21.441229607680008|6.03           |63.900002      |21.44016833104    |6.03                    |63.311031               |21.02921007344001       |\n",
      "|Farming/Seeds/Milling                                        |2019-01-02|2020-07-22|0.35           |122.300003     |27.740143444117315|0.39           |121.089996     |27.742979490990418|0.39                    |121.089996              |27.022539238958867      |\n",
      "|Medical/Nursing Services                                     |2019-01-02|2020-07-22|1.02           |504.540009     |71.03728952880785 |1.01           |507.200012     |71.09947781274896 |1.01                    |506.493256              |70.77964412074782       |\n",
      "|Marine Transportation                                        |2019-01-02|2020-07-22|0.08           |278.279999     |20.908210279072318|0.08           |278.570007     |20.88506559631321 |0.08                    |275.877502              |20.419158656223214      |\n",
      "|Biotechnology: Laboratory Analytical Instruments             |2019-01-02|2020-07-22|0.27           |871.169983     |102.15234116744065|0.26           |883.349976     |102.28519780569835|0.26                    |883.349976              |102.24022548951916      |\n",
      "+-------------------------------------------------------------+----------+----------+---------------+---------------+------------------+---------------+---------------+------------------+------------------------+------------------------+------------------------+\n",
      "only showing top 20 rows\n",
      "\n"
     ]
    }
   ],
   "source": [
    "from pyspark.sql.functions import col, min, max, avg, lit\n",
    "\n",
    "data.groupBy(\"industry\") \\\n",
    "    .agg(min(\"data\").alias(\"From\"), \n",
    "         max(\"data\").alias(\"To\"), \n",
    "         \n",
    "         min(\"open\").alias(\"Minimum Opening\"),\n",
    "         max(\"open\").alias(\"Maximum Opening\"), \n",
    "         avg(\"open\").alias(\"Average Opening\"), \n",
    "\n",
    "         min(\"close\").alias(\"Minimum Closing\"), \n",
    "         max(\"close\").alias(\"Maximum Closing\"), \n",
    "         avg(\"close\").alias(\"Average Closing\"), \n",
    "\n",
    "         min(\"adjusted\").alias(\"Minimum Adjusted Closing\"), \n",
    "         max(\"adjusted\").alias(\"Maximum Adjusted Closing\"), \n",
    "         avg(\"adjusted\").alias(\"Average Adjusted Closing\"), \n",
    "\n",
    "      ).show(truncate=False)"
   ]
  },
  {
   "cell_type": "markdown",
   "id": "33b46ec8",
   "metadata": {},
   "source": [
    "## Ejercicio 4:\n",
    "Convertir un DataFrame de Spark en un DataFrame de pandas."
   ]
  },
  {
   "cell_type": "code",
   "execution_count": 13,
   "id": "57d5913f",
   "metadata": {},
   "outputs": [
    {
     "data": {
      "text/html": [
       "<div>\n",
       "<style scoped>\n",
       "    .dataframe tbody tr th:only-of-type {\n",
       "        vertical-align: middle;\n",
       "    }\n",
       "\n",
       "    .dataframe tbody tr th {\n",
       "        vertical-align: top;\n",
       "    }\n",
       "\n",
       "    .dataframe thead th {\n",
       "        text-align: right;\n",
       "    }\n",
       "</style>\n",
       "<table border=\"1\" class=\"dataframe\">\n",
       "  <thead>\n",
       "    <tr style=\"text-align: right;\">\n",
       "      <th></th>\n",
       "      <th>_c0</th>\n",
       "      <th>symbol</th>\n",
       "      <th>data</th>\n",
       "      <th>open</th>\n",
       "      <th>high</th>\n",
       "      <th>low</th>\n",
       "      <th>close</th>\n",
       "      <th>volume</th>\n",
       "      <th>adjusted</th>\n",
       "      <th>sector</th>\n",
       "      <th>industry</th>\n",
       "      <th>exchange</th>\n",
       "    </tr>\n",
       "  </thead>\n",
       "  <tbody>\n",
       "    <tr>\n",
       "      <th>0</th>\n",
       "      <td>1</td>\n",
       "      <td>TXG</td>\n",
       "      <td>2019-09-12</td>\n",
       "      <td>54.000000</td>\n",
       "      <td>58.000000</td>\n",
       "      <td>51.000000</td>\n",
       "      <td>52.750000</td>\n",
       "      <td>7326300.0</td>\n",
       "      <td>52.750000</td>\n",
       "      <td>Capital Goods</td>\n",
       "      <td>Biotechnology: Laboratory Analytical Instruments</td>\n",
       "      <td>NASDAQ</td>\n",
       "    </tr>\n",
       "    <tr>\n",
       "      <th>1</th>\n",
       "      <td>2</td>\n",
       "      <td>TXG</td>\n",
       "      <td>2019-09-13</td>\n",
       "      <td>52.750000</td>\n",
       "      <td>54.355000</td>\n",
       "      <td>49.150002</td>\n",
       "      <td>52.270000</td>\n",
       "      <td>1025200.0</td>\n",
       "      <td>52.270000</td>\n",
       "      <td>Capital Goods</td>\n",
       "      <td>Biotechnology: Laboratory Analytical Instruments</td>\n",
       "      <td>NASDAQ</td>\n",
       "    </tr>\n",
       "    <tr>\n",
       "      <th>2</th>\n",
       "      <td>3</td>\n",
       "      <td>TXG</td>\n",
       "      <td>2019-09-16</td>\n",
       "      <td>52.450001</td>\n",
       "      <td>56.000000</td>\n",
       "      <td>52.009998</td>\n",
       "      <td>55.200001</td>\n",
       "      <td>269900.0</td>\n",
       "      <td>55.200001</td>\n",
       "      <td>Capital Goods</td>\n",
       "      <td>Biotechnology: Laboratory Analytical Instruments</td>\n",
       "      <td>NASDAQ</td>\n",
       "    </tr>\n",
       "    <tr>\n",
       "      <th>3</th>\n",
       "      <td>4</td>\n",
       "      <td>TXG</td>\n",
       "      <td>2019-09-17</td>\n",
       "      <td>56.209999</td>\n",
       "      <td>60.900002</td>\n",
       "      <td>55.423000</td>\n",
       "      <td>56.779999</td>\n",
       "      <td>602800.0</td>\n",
       "      <td>56.779999</td>\n",
       "      <td>Capital Goods</td>\n",
       "      <td>Biotechnology: Laboratory Analytical Instruments</td>\n",
       "      <td>NASDAQ</td>\n",
       "    </tr>\n",
       "    <tr>\n",
       "      <th>4</th>\n",
       "      <td>5</td>\n",
       "      <td>TXG</td>\n",
       "      <td>2019-09-18</td>\n",
       "      <td>56.849998</td>\n",
       "      <td>62.270000</td>\n",
       "      <td>55.650002</td>\n",
       "      <td>62.000000</td>\n",
       "      <td>1589600.0</td>\n",
       "      <td>62.000000</td>\n",
       "      <td>Capital Goods</td>\n",
       "      <td>Biotechnology: Laboratory Analytical Instruments</td>\n",
       "      <td>NASDAQ</td>\n",
       "    </tr>\n",
       "    <tr>\n",
       "      <th>...</th>\n",
       "      <td>...</td>\n",
       "      <td>...</td>\n",
       "      <td>...</td>\n",
       "      <td>...</td>\n",
       "      <td>...</td>\n",
       "      <td>...</td>\n",
       "      <td>...</td>\n",
       "      <td>...</td>\n",
       "      <td>...</td>\n",
       "      <td>...</td>\n",
       "      <td>...</td>\n",
       "      <td>...</td>\n",
       "    </tr>\n",
       "    <tr>\n",
       "      <th>1729029</th>\n",
       "      <td>1729030</td>\n",
       "      <td>ZYME</td>\n",
       "      <td>2020-07-16</td>\n",
       "      <td>30.570000</td>\n",
       "      <td>31.670000</td>\n",
       "      <td>30.299999</td>\n",
       "      <td>31.150000</td>\n",
       "      <td>467900.0</td>\n",
       "      <td>31.150000</td>\n",
       "      <td>Health Care</td>\n",
       "      <td>Major Pharmaceuticals</td>\n",
       "      <td>NYSE</td>\n",
       "    </tr>\n",
       "    <tr>\n",
       "      <th>1729030</th>\n",
       "      <td>1729031</td>\n",
       "      <td>ZYME</td>\n",
       "      <td>2020-07-17</td>\n",
       "      <td>31.200001</td>\n",
       "      <td>33.080002</td>\n",
       "      <td>31.000000</td>\n",
       "      <td>33.029999</td>\n",
       "      <td>600800.0</td>\n",
       "      <td>33.029999</td>\n",
       "      <td>Health Care</td>\n",
       "      <td>Major Pharmaceuticals</td>\n",
       "      <td>NYSE</td>\n",
       "    </tr>\n",
       "    <tr>\n",
       "      <th>1729031</th>\n",
       "      <td>1729032</td>\n",
       "      <td>ZYME</td>\n",
       "      <td>2020-07-20</td>\n",
       "      <td>33.320000</td>\n",
       "      <td>33.320000</td>\n",
       "      <td>31.589001</td>\n",
       "      <td>32.110001</td>\n",
       "      <td>303500.0</td>\n",
       "      <td>32.110001</td>\n",
       "      <td>Health Care</td>\n",
       "      <td>Major Pharmaceuticals</td>\n",
       "      <td>NYSE</td>\n",
       "    </tr>\n",
       "    <tr>\n",
       "      <th>1729032</th>\n",
       "      <td>1729033</td>\n",
       "      <td>ZYME</td>\n",
       "      <td>2020-07-21</td>\n",
       "      <td>32.369999</td>\n",
       "      <td>32.490002</td>\n",
       "      <td>30.340000</td>\n",
       "      <td>30.650000</td>\n",
       "      <td>337900.0</td>\n",
       "      <td>30.650000</td>\n",
       "      <td>Health Care</td>\n",
       "      <td>Major Pharmaceuticals</td>\n",
       "      <td>NYSE</td>\n",
       "    </tr>\n",
       "    <tr>\n",
       "      <th>1729033</th>\n",
       "      <td>1729034</td>\n",
       "      <td>ZYME</td>\n",
       "      <td>2020-07-22</td>\n",
       "      <td>30.799999</td>\n",
       "      <td>32.119999</td>\n",
       "      <td>30.520000</td>\n",
       "      <td>31.700001</td>\n",
       "      <td>369900.0</td>\n",
       "      <td>31.700001</td>\n",
       "      <td>Health Care</td>\n",
       "      <td>Major Pharmaceuticals</td>\n",
       "      <td>NYSE</td>\n",
       "    </tr>\n",
       "  </tbody>\n",
       "</table>\n",
       "<p>1729034 rows × 12 columns</p>\n",
       "</div>"
      ],
      "text/plain": [
       "             _c0 symbol        data       open       high        low  \\\n",
       "0              1    TXG  2019-09-12  54.000000  58.000000  51.000000   \n",
       "1              2    TXG  2019-09-13  52.750000  54.355000  49.150002   \n",
       "2              3    TXG  2019-09-16  52.450001  56.000000  52.009998   \n",
       "3              4    TXG  2019-09-17  56.209999  60.900002  55.423000   \n",
       "4              5    TXG  2019-09-18  56.849998  62.270000  55.650002   \n",
       "...          ...    ...         ...        ...        ...        ...   \n",
       "1729029  1729030   ZYME  2020-07-16  30.570000  31.670000  30.299999   \n",
       "1729030  1729031   ZYME  2020-07-17  31.200001  33.080002  31.000000   \n",
       "1729031  1729032   ZYME  2020-07-20  33.320000  33.320000  31.589001   \n",
       "1729032  1729033   ZYME  2020-07-21  32.369999  32.490002  30.340000   \n",
       "1729033  1729034   ZYME  2020-07-22  30.799999  32.119999  30.520000   \n",
       "\n",
       "             close     volume   adjusted         sector  \\\n",
       "0        52.750000  7326300.0  52.750000  Capital Goods   \n",
       "1        52.270000  1025200.0  52.270000  Capital Goods   \n",
       "2        55.200001   269900.0  55.200001  Capital Goods   \n",
       "3        56.779999   602800.0  56.779999  Capital Goods   \n",
       "4        62.000000  1589600.0  62.000000  Capital Goods   \n",
       "...            ...        ...        ...            ...   \n",
       "1729029  31.150000   467900.0  31.150000    Health Care   \n",
       "1729030  33.029999   600800.0  33.029999    Health Care   \n",
       "1729031  32.110001   303500.0  32.110001    Health Care   \n",
       "1729032  30.650000   337900.0  30.650000    Health Care   \n",
       "1729033  31.700001   369900.0  31.700001    Health Care   \n",
       "\n",
       "                                                 industry exchange  \n",
       "0        Biotechnology: Laboratory Analytical Instruments   NASDAQ  \n",
       "1        Biotechnology: Laboratory Analytical Instruments   NASDAQ  \n",
       "2        Biotechnology: Laboratory Analytical Instruments   NASDAQ  \n",
       "3        Biotechnology: Laboratory Analytical Instruments   NASDAQ  \n",
       "4        Biotechnology: Laboratory Analytical Instruments   NASDAQ  \n",
       "...                                                   ...      ...  \n",
       "1729029                             Major Pharmaceuticals     NYSE  \n",
       "1729030                             Major Pharmaceuticals     NYSE  \n",
       "1729031                             Major Pharmaceuticals     NYSE  \n",
       "1729032                             Major Pharmaceuticals     NYSE  \n",
       "1729033                             Major Pharmaceuticals     NYSE  \n",
       "\n",
       "[1729034 rows x 12 columns]"
      ]
     },
     "execution_count": 13,
     "metadata": {},
     "output_type": "execute_result"
    }
   ],
   "source": [
    "data.toPandas()"
   ]
  },
  {
   "cell_type": "markdown",
   "id": "600575d9",
   "metadata": {},
   "source": [
    "## Ejercicio 5: \n",
    "Calcular la media de las variables open, close y adjusted por industria."
   ]
  },
  {
   "cell_type": "code",
   "execution_count": 26,
   "id": "37c83eb2",
   "metadata": {},
   "outputs": [
    {
     "data": {
      "text/html": [
       "<div>\n",
       "<style scoped>\n",
       "    .dataframe tbody tr th:only-of-type {\n",
       "        vertical-align: middle;\n",
       "    }\n",
       "\n",
       "    .dataframe tbody tr th {\n",
       "        vertical-align: top;\n",
       "    }\n",
       "\n",
       "    .dataframe thead th {\n",
       "        text-align: right;\n",
       "    }\n",
       "</style>\n",
       "<table border=\"1\" class=\"dataframe\">\n",
       "  <thead>\n",
       "    <tr style=\"text-align: right;\">\n",
       "      <th></th>\n",
       "      <th>industry</th>\n",
       "      <th>avg(open)</th>\n",
       "      <th>avg(close)</th>\n",
       "      <th>avg(adjusted)</th>\n",
       "    </tr>\n",
       "  </thead>\n",
       "  <tbody>\n",
       "    <tr>\n",
       "      <th>0</th>\n",
       "      <td>Finance/Investors Services</td>\n",
       "      <td>5.134402</td>\n",
       "      <td>5.136631</td>\n",
       "      <td>4.991354</td>\n",
       "    </tr>\n",
       "    <tr>\n",
       "      <th>1</th>\n",
       "      <td>Miscellaneous</td>\n",
       "      <td>16.385883</td>\n",
       "      <td>16.359879</td>\n",
       "      <td>16.148959</td>\n",
       "    </tr>\n",
       "    <tr>\n",
       "      <th>2</th>\n",
       "      <td>Investment Bankers/Brokers/Service</td>\n",
       "      <td>58.950581</td>\n",
       "      <td>58.983086</td>\n",
       "      <td>58.157837</td>\n",
       "    </tr>\n",
       "    <tr>\n",
       "      <th>3</th>\n",
       "      <td>Food Distributors</td>\n",
       "      <td>43.274509</td>\n",
       "      <td>43.273178</td>\n",
       "      <td>42.910476</td>\n",
       "    </tr>\n",
       "    <tr>\n",
       "      <th>4</th>\n",
       "      <td>Miscellaneous manufacturing industries</td>\n",
       "      <td>15.660586</td>\n",
       "      <td>15.650935</td>\n",
       "      <td>15.369819</td>\n",
       "    </tr>\n",
       "  </tbody>\n",
       "</table>\n",
       "</div>"
      ],
      "text/plain": [
       "                                 industry  avg(open)  avg(close)  \\\n",
       "0              Finance/Investors Services   5.134402    5.136631   \n",
       "1                           Miscellaneous  16.385883   16.359879   \n",
       "2      Investment Bankers/Brokers/Service  58.950581   58.983086   \n",
       "3                       Food Distributors  43.274509   43.273178   \n",
       "4  Miscellaneous manufacturing industries  15.660586   15.650935   \n",
       "\n",
       "   avg(adjusted)  \n",
       "0       4.991354  \n",
       "1      16.148959  \n",
       "2      58.157837  \n",
       "3      42.910476  \n",
       "4      15.369819  "
      ]
     },
     "execution_count": 26,
     "metadata": {},
     "output_type": "execute_result"
    }
   ],
   "source": [
    "ind_df =  data.select(['industry', 'open', 'close', 'adjusted']).groupBy('industry').mean().toPandas()\n",
    "ind_df.head()"
   ]
  },
  {
   "cell_type": "markdown",
   "id": "980e7198",
   "metadata": {},
   "source": [
    "## Ejercicio 6:\n",
    "Generar un gráfico de líneas donde se muestre la media de open por industria."
   ]
  },
  {
   "cell_type": "code",
   "execution_count": 27,
   "id": "ada688d8",
   "metadata": {},
   "outputs": [
    {
     "data": {
      "text/plain": [
       "<AxesSubplot: >"
      ]
     },
     "execution_count": 27,
     "metadata": {},
     "output_type": "execute_result"
    },
    {
     "data": {
      "image/png": "[encoded data removed]",
      "text/plain": [
       "<Figure size 640x480 with 1 Axes>"
      ]
     },
     "metadata": {},
     "output_type": "display_data"
    }
   ],
   "source": [
    "ind_df[['industry', 'avg(open)']].plot()"
   ]
  },
  {
   "cell_type": "markdown",
   "id": "71fc4d9f",
   "metadata": {},
   "source": [
    "## Ejercicio 7:\n",
    "Generar un heatmap con seaborn donde se muestre la correlación entre las medias de open, close y adjusted."
   ]
  },
  {
   "cell_type": "code",
   "execution_count": 31,
   "id": "97e9e062",
   "metadata": {},
   "outputs": [
    {
     "name": "stderr",
     "output_type": "stream",
     "text": [
      "C:\\Users\\USER\\AppData\\Local\\Temp\\ipykernel_1680\\2084646683.py:1: FutureWarning: The default value of numeric_only in DataFrame.corr is deprecated. In a future version, it will default to False. Select only valid columns or specify the value of numeric_only to silence this warning.\n",
      "  corr = ind_df.corr()\n"
     ]
    },
    {
     "data": {
      "text/plain": [
       "<AxesSubplot: >"
      ]
     },
     "execution_count": 31,
     "metadata": {},
     "output_type": "execute_result"
    },
    {
     "data": {
      "image/png": "[encoded data removed]",
      "text/plain": [
       "<Figure size 640x480 with 2 Axes>"
      ]
     },
     "metadata": {},
     "output_type": "display_data"
    }
   ],
   "source": [
    "corr = ind_df.corr() #matriz de correlación\n",
    "sns.heatmap(corr, cmap=\"Blues\", annot=True) #la dibujo en un mapa de calor"
   ]
  },
  {
   "cell_type": "markdown",
   "id": "4fde2532",
   "metadata": {},
   "source": [
    "## Ejercicio 8:\n",
    "Guardar en un archivo parquet una selección de datos"
   ]
  },
  {
   "cell_type": "code",
   "execution_count": 34,
   "id": "66250d75",
   "metadata": {},
   "outputs": [],
   "source": [
    "data.select([\"industry\",\"open\",\"close\"])\\\n",
    ".write.save('dataset.parquet', format='parquet')"
   ]
  },
  {
   "cell_type": "code",
   "execution_count": null,
   "id": "7725f511",
   "metadata": {},
   "outputs": [],
   "source": []
  }
 ],
 "metadata": {
  "kernelspec": {
   "display_name": "Python 3 (ipykernel)",
   "language": "python",
   "name": "python3"
  },
  "language_info": {
   "codemirror_mode": {
    "name": "ipython",
    "version": 3
   },
   "file_extension": ".py",
   "mimetype": "text/x-python",
   "name": "python",
   "nbconvert_exporter": "python",
   "pygments_lexer": "ipython3",
   "version": "3.9.1"
  }
 },
 "nbformat": 4,
 "nbformat_minor": 5
}
